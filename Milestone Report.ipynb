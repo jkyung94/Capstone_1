{
 "cells": [
  {
   "cell_type": "markdown",
   "metadata": {},
   "source": [
    "# Capstone 1 Milestone Report\n",
    "## H-1B Visa \n",
    "\n",
    "### Problem\n",
    "The H-1B Visa is a highly desired non-immigrant visa and the most common visa status applied for and held by international students upon graduating college/higher education and work in a full-time position. Not every company is willing to support the visa so immigrants tend to have a more difficult time finding a job. This project will attempt to predict which occupations will more successfully get a visa.\n",
    "\n",
    "### Clients\n",
    "* Government\n",
    "* Any employers\n",
    "* Immigrant workers/graduating international students\n",
    "\n",
    "### Data Wrangling\n",
    "The dataset was retrieved from Kaggle which had H-1B visa Petitions for the period 2011 to 2016. Upon finding 5% NaN values within the dataset, those values were dropped since it would have minor effects on the dataset. Years were changed to string values to drop the \".0\" at the end and also outliers in the wages were removed from the dataset. String values in the occupation field were changed to all have the same upper case and the worksite that had both city and state within one field was split so that there would be one new field for just the states. This relatively cleaned dataset was then saved to another file called \"h1b_kaggle_clean.csv\". \n",
    "\n",
    "### Other Potential Datasets to Supplement\n",
    "Kaggle recently retrieved another H-1B visa petition dataset for 2017 which could be added for further investigation. Otherwise, if there were similar datasets with more fields than the ones given from this dataset, they could be merged to gain new and more features. \n",
    "\n",
    "### Initial Findings: EDA and Inferential Statistics\n"
   ]
  }
 ],
 "metadata": {
  "kernelspec": {
   "display_name": "Python 3",
   "language": "python",
   "name": "python3"
  },
  "language_info": {
   "codemirror_mode": {
    "name": "ipython",
    "version": 3
   },
   "file_extension": ".py",
   "mimetype": "text/x-python",
   "name": "python",
   "nbconvert_exporter": "python",
   "pygments_lexer": "ipython3",
   "version": "3.6.3"
  }
 },
 "nbformat": 4,
 "nbformat_minor": 2
}
